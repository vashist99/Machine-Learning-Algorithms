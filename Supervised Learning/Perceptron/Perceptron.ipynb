{
 "cells": [
  {
   "cell_type": "code",
   "execution_count": 1,
   "id": "a78e7c2f",
   "metadata": {},
   "outputs": [],
   "source": [
    "import numpy as np\n",
    "import pandas as pd"
   ]
  },
  {
   "cell_type": "code",
   "execution_count": 3,
   "id": "faf957f6",
   "metadata": {},
   "outputs": [],
   "source": [
    "class Perceptron:\n",
    "    def __init__(self,row,col,lr):\n",
    "        self.dims = col\n",
    "        self.numDataPts = row\n",
    "        self.w = np.random.rand(1,self.dims)\n",
    "        self.b = 0\n",
    "        self.lr = lr\n",
    "    def node(self,X):\n",
    "        return np.matmul(self.w,X.T)+self.b\n",
    "    def step_function(self,x):\n",
    "        if x>=0:\n",
    "            return 1\n",
    "        else:\n",
    "            return 0\n",
    "    def fit(self,X,y):\n",
    "        node_result = self.node(X)\n",
    "        for i in range(node_result.shape[1]):\n",
    "            step_out = self.step_function(node_result[i])\n",
    "            if step_out==1 and y[i]==0:\n",
    "                self.w = self.w - lr*self.X[i]\n",
    "                self.b = self.b - lr\n",
    "            elif step_out==0 and y[i]==1:\n",
    "                self.w = self.w + lr*self.X[i]\n",
    "                self.b = self.b + lr\n",
    "    def pred(self,X):\n",
    "        node_result = self.node(X)\n",
    "        return self.step_function(node_result)\n",
    "            \n",
    "                    \n",
    "        "
   ]
  },
  {
   "cell_type": "code",
   "execution_count": null,
   "id": "25615b49",
   "metadata": {},
   "outputs": [],
   "source": []
  }
 ],
 "metadata": {
  "kernelspec": {
   "display_name": "Python 3 (ipykernel)",
   "language": "python",
   "name": "python3"
  },
  "language_info": {
   "codemirror_mode": {
    "name": "ipython",
    "version": 3
   },
   "file_extension": ".py",
   "mimetype": "text/x-python",
   "name": "python",
   "nbconvert_exporter": "python",
   "pygments_lexer": "ipython3",
   "version": "3.9.13"
  }
 },
 "nbformat": 4,
 "nbformat_minor": 5
}
